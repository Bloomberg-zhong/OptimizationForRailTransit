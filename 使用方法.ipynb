{
 "cells": [
  {
   "cell_type": "code",
   "execution_count": 2,
   "metadata": {},
   "outputs": [],
   "source": [
    "from Train_Operation_Model_New import Train_Model"
   ]
  },
  {
   "cell_type": "code",
   "execution_count": 4,
   "metadata": {},
   "outputs": [
    {
     "name": "stdout",
     "output_type": "stream",
     "text": [
      "G的范围合理！G:0.06\n"
     ]
    }
   ],
   "source": [
    "TM = Train_Model(\n",
    "    x = 5,\n",
    "    f1=5,\n",
    "    f2=5,\n",
    "    G=0.06,\n",
    "    K=5\n",
    ")"
   ]
  },
  {
   "cell_type": "code",
   "execution_count": 5,
   "metadata": {},
   "outputs": [
    {
     "name": "stdout",
     "output_type": "stream",
     "text": [
      "乘客候车时间CW\n",
      "\tCW:1268.78\n",
      "乘客乘车时间CV\n",
      "\tCVR:17264736\n",
      "\tST:10729936.56725\n",
      "\tCV:27994672.56725\n",
      "乘客在站台的换乘时间CT\n",
      "CT:954000.0\n",
      "列车长度L1\n",
      "L_1:48657\n",
      "列车长度L2\n",
      "L_2:19882\n",
      "列车出行时间Z2\n",
      "Z2:68539\n"
     ]
    },
    {
     "data": {
      "text/plain": [
       "(1268.78, 27994672.56725, 17264736, 954000.0, 68539)"
      ]
     },
     "execution_count": 5,
     "metadata": {},
     "output_type": "execute_result"
    }
   ],
   "source": [
    "TM.All_Return()"
   ]
  },
  {
   "cell_type": "code",
   "execution_count": 6,
   "metadata": {},
   "outputs": [
    {
     "name": "stdout",
     "output_type": "stream",
     "text": [
      "乘客在站台的换乘时间CT\n",
      "CT:954000.0\n"
     ]
    },
    {
     "data": {
      "text/plain": [
       "954000.0"
      ]
     },
     "execution_count": 6,
     "metadata": {},
     "output_type": "execute_result"
    }
   ],
   "source": [
    "TM.Passenger_Transfer_Time()"
   ]
  },
  {
   "cell_type": "code",
   "execution_count": 8,
   "metadata": {},
   "outputs": [
    {
     "name": "stdout",
     "output_type": "stream",
     "text": [
      "乘客乘车时间CV\n",
      "\tCVR:17264736\n",
      "\tST:10729936.56725\n",
      "\tCV:27994672.56725\n"
     ]
    },
    {
     "data": {
      "text/plain": [
       "(27994672.56725, 17264736)"
      ]
     },
     "execution_count": 8,
     "metadata": {},
     "output_type": "execute_result"
    }
   ],
   "source": [
    "TM.Passenger_Travel_Time()"
   ]
  },
  {
   "cell_type": "code",
   "execution_count": 10,
   "metadata": {},
   "outputs": [
    {
     "name": "stdout",
     "output_type": "stream",
     "text": [
      "乘客候车时间CW\n",
      "\tCW:1268.78\n"
     ]
    },
    {
     "data": {
      "text/plain": [
       "1268.78"
      ]
     },
     "execution_count": 10,
     "metadata": {},
     "output_type": "execute_result"
    }
   ],
   "source": [
    "TM.Passenger_Waiting_Time()"
   ]
  },
  {
   "cell_type": "code",
   "execution_count": null,
   "metadata": {},
   "outputs": [],
   "source": []
  },
  {
   "cell_type": "code",
   "execution_count": null,
   "metadata": {},
   "outputs": [],
   "source": []
  },
  {
   "cell_type": "code",
   "execution_count": null,
   "metadata": {},
   "outputs": [],
   "source": []
  }
 ],
 "metadata": {
  "kernelspec": {
   "display_name": "Python 3",
   "language": "python",
   "name": "python3"
  },
  "language_info": {
   "codemirror_mode": {
    "name": "ipython",
    "version": 3
   },
   "file_extension": ".py",
   "mimetype": "text/x-python",
   "name": "python",
   "nbconvert_exporter": "python",
   "pygments_lexer": "ipython3",
   "version": "3.6.5"
  }
 },
 "nbformat": 4,
 "nbformat_minor": 2
}
